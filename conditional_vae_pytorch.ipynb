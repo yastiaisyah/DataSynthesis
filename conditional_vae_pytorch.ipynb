{
  "nbformat": 4,
  "nbformat_minor": 0,
  "metadata": {
    "colab": {
      "provenance": [],
      "include_colab_link": true
    },
    "kernelspec": {
      "name": "python3",
      "display_name": "Python 3"
    },
    "language_info": {
      "name": "python"
    }
  },
  "cells": [
    {
      "cell_type": "markdown",
      "metadata": {
        "id": "view-in-github",
        "colab_type": "text"
      },
      "source": [
        "<a href=\"https://colab.research.google.com/github/yastiaisyah/DataSynthesis/blob/main/conditional_vae_pytorch.ipynb\" target=\"_parent\"><img src=\"https://colab.research.google.com/assets/colab-badge.svg\" alt=\"Open In Colab\"/></a>"
      ]
    },
    {
      "cell_type": "code",
      "execution_count": 1,
      "metadata": {
        "colab": {
          "base_uri": "https://localhost:8080/"
        },
        "id": "vtfh49Yx3sGQ",
        "outputId": "467bc423-01bc-45e3-c9a2-47efdb8fe138"
      },
      "outputs": [
        {
          "output_type": "stream",
          "name": "stdout",
          "text": [
            "Downloading http://yann.lecun.com/exdb/mnist/train-images-idx3-ubyte.gz\n",
            "Downloading http://yann.lecun.com/exdb/mnist/train-images-idx3-ubyte.gz to ./data/MNIST/raw/train-images-idx3-ubyte.gz\n"
          ]
        },
        {
          "output_type": "stream",
          "name": "stderr",
          "text": [
            "100%|██████████| 9912422/9912422 [00:00<00:00, 207760132.95it/s]"
          ]
        },
        {
          "output_type": "stream",
          "name": "stdout",
          "text": [
            "Extracting ./data/MNIST/raw/train-images-idx3-ubyte.gz to ./data/MNIST/raw\n"
          ]
        },
        {
          "output_type": "stream",
          "name": "stderr",
          "text": [
            "\n"
          ]
        },
        {
          "output_type": "stream",
          "name": "stdout",
          "text": [
            "\n",
            "Downloading http://yann.lecun.com/exdb/mnist/train-labels-idx1-ubyte.gz\n",
            "Downloading http://yann.lecun.com/exdb/mnist/train-labels-idx1-ubyte.gz to ./data/MNIST/raw/train-labels-idx1-ubyte.gz\n"
          ]
        },
        {
          "output_type": "stream",
          "name": "stderr",
          "text": [
            "100%|██████████| 28881/28881 [00:00<00:00, 25236602.88it/s]\n"
          ]
        },
        {
          "output_type": "stream",
          "name": "stdout",
          "text": [
            "Extracting ./data/MNIST/raw/train-labels-idx1-ubyte.gz to ./data/MNIST/raw\n",
            "\n",
            "Downloading http://yann.lecun.com/exdb/mnist/t10k-images-idx3-ubyte.gz\n",
            "Downloading http://yann.lecun.com/exdb/mnist/t10k-images-idx3-ubyte.gz to ./data/MNIST/raw/t10k-images-idx3-ubyte.gz\n"
          ]
        },
        {
          "output_type": "stream",
          "name": "stderr",
          "text": [
            "100%|██████████| 1648877/1648877 [00:00<00:00, 176044072.71it/s]"
          ]
        },
        {
          "output_type": "stream",
          "name": "stdout",
          "text": [
            "Extracting ./data/MNIST/raw/t10k-images-idx3-ubyte.gz to ./data/MNIST/raw\n",
            "\n",
            "Downloading http://yann.lecun.com/exdb/mnist/t10k-labels-idx1-ubyte.gz\n",
            "Downloading http://yann.lecun.com/exdb/mnist/t10k-labels-idx1-ubyte.gz to ./data/MNIST/raw/t10k-labels-idx1-ubyte.gz\n"
          ]
        },
        {
          "output_type": "stream",
          "name": "stderr",
          "text": [
            "\n",
            "100%|██████████| 4542/4542 [00:00<00:00, 16089973.62it/s]\n"
          ]
        },
        {
          "output_type": "stream",
          "name": "stdout",
          "text": [
            "Extracting ./data/MNIST/raw/t10k-labels-idx1-ubyte.gz to ./data/MNIST/raw\n",
            "\n",
            "Iter-0; Loss: 547.1\n",
            "Iter-1000; Loss: 143.6\n",
            "Iter-2000; Loss: 124.5\n",
            "Iter-3000; Loss: 121.3\n",
            "Iter-4000; Loss: 120.3\n",
            "Iter-5000; Loss: 125.1\n",
            "Iter-6000; Loss: 119.7\n",
            "Iter-7000; Loss: 135.1\n",
            "Iter-8000; Loss: 121.1\n",
            "Iter-9000; Loss: 130.1\n",
            "Iter-10000; Loss: 121.7\n",
            "Iter-11000; Loss: 117.5\n",
            "Iter-12000; Loss: 118.8\n",
            "Iter-13000; Loss: 127.6\n",
            "Iter-14000; Loss: 122.8\n",
            "Iter-15000; Loss: 125.1\n",
            "Iter-16000; Loss: 118.5\n",
            "Iter-17000; Loss: 113.9\n",
            "Iter-18000; Loss: 108.5\n",
            "Iter-19000; Loss: 122.6\n",
            "Iter-20000; Loss: 110.9\n",
            "Iter-21000; Loss: 123.0\n",
            "Iter-22000; Loss: 106.6\n",
            "Iter-23000; Loss: 116.8\n",
            "Iter-24000; Loss: 120.9\n",
            "Iter-25000; Loss: 119.3\n",
            "Iter-26000; Loss: 116.7\n",
            "Iter-27000; Loss: 119.5\n",
            "Iter-28000; Loss: 110.7\n",
            "Iter-29000; Loss: 117.6\n",
            "Iter-30000; Loss: 124.9\n",
            "Iter-31000; Loss: 112.4\n",
            "Iter-32000; Loss: 119.3\n",
            "Iter-33000; Loss: 123.4\n",
            "Iter-34000; Loss: 120.9\n",
            "Iter-35000; Loss: 110.7\n",
            "Iter-36000; Loss: 129.7\n",
            "Iter-37000; Loss: 125.7\n",
            "Iter-38000; Loss: 126.9\n",
            "Iter-39000; Loss: 111.4\n",
            "Iter-40000; Loss: 119.7\n",
            "Iter-41000; Loss: 112.8\n",
            "Iter-42000; Loss: 109.9\n",
            "Iter-43000; Loss: 116.6\n",
            "Iter-44000; Loss: 120.6\n",
            "Iter-45000; Loss: 116.5\n",
            "Iter-46000; Loss: 118.8\n",
            "Iter-47000; Loss: 112.7\n",
            "Iter-48000; Loss: 116.3\n",
            "Iter-49000; Loss: 114.3\n",
            "Iter-50000; Loss: 125.8\n",
            "Iter-51000; Loss: 108.5\n",
            "Iter-52000; Loss: 111.9\n",
            "Iter-53000; Loss: 101.5\n",
            "Iter-54000; Loss: 134.4\n",
            "Iter-55000; Loss: 115.6\n",
            "Iter-56000; Loss: 121.1\n",
            "Iter-57000; Loss: 112.7\n",
            "Iter-58000; Loss: 102.8\n",
            "Iter-59000; Loss: 126.7\n",
            "Iter-60000; Loss: 114.6\n",
            "Iter-61000; Loss: 106.3\n",
            "Iter-62000; Loss: 114.5\n",
            "Iter-63000; Loss: 124.5\n",
            "Iter-64000; Loss: 108.0\n",
            "Iter-65000; Loss: 119.2\n",
            "Iter-66000; Loss: 116.4\n",
            "Iter-67000; Loss: 120.8\n",
            "Iter-68000; Loss: 123.7\n",
            "Iter-69000; Loss: 123.9\n",
            "Iter-70000; Loss: 134.9\n",
            "Iter-71000; Loss: 120.5\n",
            "Iter-72000; Loss: 108.7\n",
            "Iter-73000; Loss: 120.6\n",
            "Iter-74000; Loss: 118.3\n",
            "Iter-75000; Loss: 113.6\n",
            "Iter-76000; Loss: 112.9\n",
            "Iter-77000; Loss: 123.1\n",
            "Iter-78000; Loss: 116.6\n",
            "Iter-79000; Loss: 115.1\n",
            "Iter-80000; Loss: 113.4\n",
            "Iter-81000; Loss: 104.1\n",
            "Iter-82000; Loss: 120.5\n",
            "Iter-83000; Loss: 111.5\n",
            "Iter-84000; Loss: 101.7\n",
            "Iter-85000; Loss: 113.2\n",
            "Iter-86000; Loss: 100.0\n",
            "Iter-87000; Loss: 114.6\n",
            "Iter-88000; Loss: 109.9\n",
            "Iter-89000; Loss: 118.2\n",
            "Iter-90000; Loss: 114.5\n",
            "Iter-91000; Loss: 118.7\n",
            "Iter-92000; Loss: 104.3\n",
            "Iter-93000; Loss: 119.6\n",
            "Iter-94000; Loss: 117.4\n",
            "Iter-95000; Loss: 105.8\n",
            "Iter-96000; Loss: 118.3\n",
            "Iter-97000; Loss: 98.94\n",
            "Iter-98000; Loss: 104.2\n",
            "Iter-99000; Loss: 114.7\n"
          ]
        }
      ],
      "source": [
        "import torch\n",
        "import torch.nn as nn\n",
        "import torch.optim as optim\n",
        "import numpy as np\n",
        "import matplotlib.pyplot as plt\n",
        "import matplotlib.gridspec as gridspec\n",
        "import os\n",
        "from torch.autograd import Variable\n",
        "from torchvision.datasets import MNIST\n",
        "from torchvision import transforms\n",
        "\n",
        "# Define data transforms\n",
        "transform = transforms.Compose([\n",
        "    transforms.ToTensor(),\n",
        "    transforms.Normalize((0.5,), (0.5,))\n",
        "])\n",
        "\n",
        "# Load MNIST dataset\n",
        "mnist = MNIST(root='./data', train=True, transform=transform, download=True)\n",
        "\n",
        "# Parameters\n",
        "mb_size = 32\n",
        "z_dim = 5\n",
        "y_dim = 10  # Number of condition classes (0-9 digits)\n",
        "X_dim = 28 * 28  # Flattened image dimensions\n",
        "h_dim = 128\n",
        "lr = 1e-3\n",
        "\n",
        "# Define Q, P, sample_z, and other functions here\n",
        "\n",
        "def sample_z(mu, log_var):\n",
        "    eps = Variable(torch.randn(mu.size()))\n",
        "    return mu + torch.exp(log_var / 2) * eps\n",
        "\n",
        "\n",
        "# =============================== TRAINING ====================================\n",
        "\n",
        "# Create the model objects\n",
        "Q = nn.Sequential(\n",
        "    nn.Linear(X_dim + y_dim, h_dim),\n",
        "    nn.ReLU(),\n",
        "    nn.Linear(h_dim, z_dim * 2)  # Output both mu and log_var\n",
        ")\n",
        "\n",
        "P = nn.Sequential(\n",
        "    nn.Linear(z_dim + y_dim, h_dim),\n",
        "    nn.ReLU(),\n",
        "    nn.Linear(h_dim, X_dim),\n",
        "    nn.Sigmoid()\n",
        ")\n",
        "\n",
        "params = list(Q.parameters()) + list(P.parameters())\n",
        "solver = optim.Adam(params, lr=lr)\n",
        "\n",
        "cnt = 0\n",
        "\n",
        "\"\"\"1000000\"\"\"\n",
        "for it in range(100000):\n",
        "    # Sample minibatch from the dataset\n",
        "    indices = np.random.randint(0, len(mnist), mb_size)\n",
        "    X, c = mnist.data[indices], mnist.targets[indices]\n",
        "    X = X.view(mb_size, -1).float() / 255.0\n",
        "    c_onehot = torch.zeros(mb_size, y_dim).scatter_(1, c.view(-1, 1), 1)\n",
        "\n",
        "    X, c_onehot = Variable(X), Variable(c_onehot)\n",
        "\n",
        "    # Forward pass\n",
        "    z_params = Q(torch.cat([X, c_onehot], 1))\n",
        "    z_mu, z_log_var = z_params[:, :z_dim], z_params[:, z_dim:]\n",
        "    z = sample_z(z_mu, z_log_var)\n",
        "    X_sample = P(torch.cat([z, c_onehot], 1))\n",
        "\n",
        "    # Loss calculation\n",
        "    recon_loss = nn.BCELoss(reduction='sum')(X_sample, X) / mb_size\n",
        "    kl_loss = torch.mean(0.5 * torch.sum(torch.exp(z_log_var) + z_mu**2 - 1. - z_log_var, 1))\n",
        "    loss = recon_loss + kl_loss\n",
        "\n",
        "    # Backpropagation and optimization\n",
        "    solver.zero_grad()\n",
        "    loss.backward()\n",
        "    solver.step()\n",
        "\n",
        "    # Print and plot every now and then\n",
        "    if it % 1000 == 0:\n",
        "        print('Iter-{}; Loss: {:.4}'.format(it, loss.item()))\n",
        "\n",
        "        c = torch.zeros(mb_size, y_dim).float()\n",
        "        c[:, np.random.randint(0, y_dim)] = 1.0\n",
        "        c = Variable(c)\n",
        "\n",
        "        z = Variable(torch.randn(mb_size, z_dim))\n",
        "\n",
        "        samples = P(torch.cat([z, c], 1)).data.numpy()[:16]\n",
        "\n",
        "        fig = plt.figure(figsize=(4, 4))\n",
        "        gs = gridspec.GridSpec(4, 4)\n",
        "        gs.update(wspace=0.05, hspace=0.05)\n",
        "\n",
        "        for i, sample in enumerate(samples):\n",
        "            ax = plt.subplot(gs[i])\n",
        "            plt.axis('off')\n",
        "            ax.set_xticklabels([])\n",
        "            ax.set_yticklabels([])\n",
        "            ax.set_aspect('equal')\n",
        "            plt.imshow(sample.reshape(28, 28), cmap='Greys_r')\n",
        "\n",
        "        if not os.path.exists('out/'):\n",
        "            os.makedirs('out/')\n",
        "\n",
        "        plt.savefig('out/{}.png'.format(str(cnt).zfill(3)), bbox_inches='tight')\n",
        "        cnt += 1\n",
        "        plt.close(fig)"
      ]
    }
  ]
}