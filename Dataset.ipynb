{
  "nbformat": 4,
  "nbformat_minor": 0,
  "metadata": {
    "colab": {
      "provenance": [],
      "authorship_tag": "ABX9TyM6rPih66ZD5Ljbm8btGgrh",
      "include_colab_link": true
    },
    "kernelspec": {
      "name": "python3",
      "display_name": "Python 3"
    },
    "language_info": {
      "name": "python"
    }
  },
  "cells": [
    {
      "cell_type": "markdown",
      "metadata": {
        "id": "view-in-github",
        "colab_type": "text"
      },
      "source": [
        "<a href=\"https://colab.research.google.com/github/yastiaisyah/DataSynthesis/blob/main/Dataset.ipynb\" target=\"_parent\"><img src=\"https://colab.research.google.com/assets/colab-badge.svg\" alt=\"Open In Colab\"/></a>"
      ]
    },
    {
      "cell_type": "code",
      "execution_count": 1,
      "metadata": {
        "colab": {
          "base_uri": "https://localhost:8080/"
        },
        "id": "JbOlbTSJhI7N",
        "outputId": "1824090e-5d39-41e5-9d04-ce46a661a37d"
      },
      "outputs": [
        {
          "output_type": "stream",
          "name": "stdout",
          "text": [
            "Mounted at /content/drive\n",
            "                                           filepaths         labels\n",
            "0  /content/drive/MyDrive/archive/real_and_fake_f...  training_real\n",
            "1  /content/drive/MyDrive/archive/real_and_fake_f...  training_real\n",
            "2  /content/drive/MyDrive/archive/real_and_fake_f...  training_real\n",
            "3  /content/drive/MyDrive/archive/real_and_fake_f...  training_real\n",
            "4  /content/drive/MyDrive/archive/real_and_fake_f...  training_real\n",
            "training_real    1081\n",
            "training_fake     975\n",
            "Name: labels, dtype: int64\n"
          ]
        }
      ],
      "source": [
        "import torch\n",
        "import torch.nn as nn\n",
        "import torch.optim as optim\n",
        "import matplotlib.pyplot as plt\n",
        "import matplotlib.gridspec as gridspec\n",
        "import os\n",
        "from torch.autograd import Variable\n",
        "from torchvision.datasets import ImageFolder\n",
        "from torchvision import transforms\n",
        "import numpy as np\n",
        "import pandas as pd\n",
        "from google.colab import drive\n",
        "drive.mount('/content/drive')\n",
        "\n",
        "# Define data transforms\n",
        "transform = transforms.Compose([\n",
        "    transforms.Resize((64, 64)),  # Resize gambar ke ukuran yang diinginkan (misalnya 64x64)\n",
        "    transforms.ToTensor(),\n",
        "    transforms.Normalize((0.5, 0.5, 0.5), (0.5, 0.5, 0.5))  # Normalisasi nilai pixel\n",
        "])\n",
        "\n",
        "# Load dataset gambar wajah nyata dan palsu\n",
        "sdir=r'/content/drive/MyDrive/archive/real_and_fake_face/'\n",
        "\n",
        "filepaths = []\n",
        "labels = []\n",
        "classlist = os.listdir(sdir)\n",
        "\n",
        "# Iterasi melalui kelas (nyata dan palsu)\n",
        "for klass in classlist:\n",
        "    classpath = os.path.join(sdir, klass)\n",
        "\n",
        "    # Pastikan ini adalah direktori (bukan file)\n",
        "    if os.path.isdir(classpath):\n",
        "        flist = os.listdir(classpath)\n",
        "\n",
        "        # Iterasi melalui file dalam kelas ini\n",
        "        for f in flist:\n",
        "            fpath = os.path.join(classpath, f)\n",
        "            filepaths.append(fpath)\n",
        "            labels.append(klass)\n",
        "\n",
        "# Buat Series dari filepaths dan labels\n",
        "Fseries = pd.Series(filepaths, name='filepaths')\n",
        "Lseries = pd.Series(labels, name='labels')\n",
        "\n",
        "# Gabungkan Series menjadi DataFrame\n",
        "df = pd.concat([Fseries, Lseries], axis=1)\n",
        "\n",
        "# Cetak beberapa data pertama dan statistik kelas\n",
        "print(df.head())\n",
        "print(df['labels'].value_counts())"
      ]
    }
  ]
}