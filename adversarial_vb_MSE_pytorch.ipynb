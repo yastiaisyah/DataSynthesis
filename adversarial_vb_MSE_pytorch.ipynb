{
  "nbformat": 4,
  "nbformat_minor": 0,
  "metadata": {
    "colab": {
      "provenance": [],
      "authorship_tag": "ABX9TyNgT8yiAZG8V5rwz1RooKoh",
      "include_colab_link": true
    },
    "kernelspec": {
      "name": "python3",
      "display_name": "Python 3"
    },
    "language_info": {
      "name": "python"
    }
  },
  "cells": [
    {
      "cell_type": "markdown",
      "metadata": {
        "id": "view-in-github",
        "colab_type": "text"
      },
      "source": [
        "<a href=\"https://colab.research.google.com/github/yastiaisyah/DataSynthesis/blob/main/adversarial_vb_MSE_pytorch.ipynb\" target=\"_parent\"><img src=\"https://colab.research.google.com/assets/colab-badge.svg\" alt=\"Open In Colab\"/></a>"
      ]
    },
    {
      "cell_type": "code",
      "execution_count": 1,
      "metadata": {
        "colab": {
          "base_uri": "https://localhost:8080/"
        },
        "id": "D9iQPhXGfrsX",
        "outputId": "83784161-1f52-4d2d-cc90-cca6b466ada3"
      },
      "outputs": [
        {
          "output_type": "stream",
          "name": "stdout",
          "text": [
            "Downloading http://yann.lecun.com/exdb/mnist/train-images-idx3-ubyte.gz\n",
            "Downloading http://yann.lecun.com/exdb/mnist/train-images-idx3-ubyte.gz to ./data/MNIST/raw/train-images-idx3-ubyte.gz\n"
          ]
        },
        {
          "output_type": "stream",
          "name": "stderr",
          "text": [
            "100%|██████████| 9912422/9912422 [00:00<00:00, 93281410.55it/s]\n"
          ]
        },
        {
          "output_type": "stream",
          "name": "stdout",
          "text": [
            "Extracting ./data/MNIST/raw/train-images-idx3-ubyte.gz to ./data/MNIST/raw\n",
            "\n",
            "Downloading http://yann.lecun.com/exdb/mnist/train-labels-idx1-ubyte.gz\n",
            "Downloading http://yann.lecun.com/exdb/mnist/train-labels-idx1-ubyte.gz to ./data/MNIST/raw/train-labels-idx1-ubyte.gz\n"
          ]
        },
        {
          "output_type": "stream",
          "name": "stderr",
          "text": [
            "100%|██████████| 28881/28881 [00:00<00:00, 26925026.41it/s]"
          ]
        },
        {
          "output_type": "stream",
          "name": "stdout",
          "text": [
            "Extracting ./data/MNIST/raw/train-labels-idx1-ubyte.gz to ./data/MNIST/raw\n",
            "\n",
            "Downloading http://yann.lecun.com/exdb/mnist/t10k-images-idx3-ubyte.gz\n"
          ]
        },
        {
          "output_type": "stream",
          "name": "stderr",
          "text": [
            "\n"
          ]
        },
        {
          "output_type": "stream",
          "name": "stdout",
          "text": [
            "Downloading http://yann.lecun.com/exdb/mnist/t10k-images-idx3-ubyte.gz to ./data/MNIST/raw/t10k-images-idx3-ubyte.gz\n"
          ]
        },
        {
          "output_type": "stream",
          "name": "stderr",
          "text": [
            "100%|██████████| 1648877/1648877 [00:00<00:00, 29992937.05it/s]\n"
          ]
        },
        {
          "output_type": "stream",
          "name": "stdout",
          "text": [
            "Extracting ./data/MNIST/raw/t10k-images-idx3-ubyte.gz to ./data/MNIST/raw\n",
            "\n",
            "Downloading http://yann.lecun.com/exdb/mnist/t10k-labels-idx1-ubyte.gz\n",
            "Downloading http://yann.lecun.com/exdb/mnist/t10k-labels-idx1-ubyte.gz to ./data/MNIST/raw/t10k-labels-idx1-ubyte.gz\n"
          ]
        },
        {
          "output_type": "stream",
          "name": "stderr",
          "text": [
            "100%|██████████| 4542/4542 [00:00<00:00, 4463572.81it/s]"
          ]
        },
        {
          "output_type": "stream",
          "name": "stdout",
          "text": [
            "Extracting ./data/MNIST/raw/t10k-labels-idx1-ubyte.gz to ./data/MNIST/raw\n",
            "\n"
          ]
        },
        {
          "output_type": "stream",
          "name": "stderr",
          "text": [
            "\n"
          ]
        },
        {
          "output_type": "stream",
          "name": "stdout",
          "text": [
            "Iter-0; ELBO: -0.2218; T_loss: -1.387\n",
            "Iter-1000; ELBO: -0.4044; T_loss: -1.16\n",
            "Iter-2000; ELBO: -0.3174; T_loss: -1.258\n",
            "Iter-3000; ELBO: -0.8561; T_loss: -0.8058\n",
            "Iter-4000; ELBO: -0.05042; T_loss: -1.397\n",
            "Iter-5000; ELBO: -0.1929; T_loss: -1.34\n",
            "Iter-6000; ELBO: -0.1505; T_loss: -1.452\n",
            "Iter-7000; ELBO: -0.06782; T_loss: -1.443\n",
            "Iter-8000; ELBO: -0.2467; T_loss: -1.621\n",
            "Iter-9000; ELBO: -0.1742; T_loss: -2.123\n",
            "Iter-10000; ELBO: -0.7551; T_loss: -0.9851\n",
            "Iter-11000; ELBO: -0.1226; T_loss: -1.689\n",
            "Iter-12000; ELBO: -0.6476; T_loss: -1.027\n",
            "Iter-13000; ELBO: -0.6222; T_loss: -0.9882\n",
            "Iter-14000; ELBO: -0.4891; T_loss: -1.135\n",
            "Iter-15000; ELBO: -0.2627; T_loss: -1.331\n",
            "Iter-16000; ELBO: -0.5265; T_loss: -1.149\n",
            "Iter-17000; ELBO: -0.1298; T_loss: -1.353\n",
            "Iter-18000; ELBO: -0.06152; T_loss: -1.361\n",
            "Iter-19000; ELBO: -0.1159; T_loss: -1.372\n",
            "Iter-20000; ELBO: -0.4746; T_loss: -1.084\n",
            "Iter-21000; ELBO: -1.804; T_loss: -1.145\n",
            "Iter-22000; ELBO: -0.4785; T_loss: -1.135\n",
            "Iter-23000; ELBO: 0.304; T_loss: -2.244\n",
            "Iter-24000; ELBO: -0.4621; T_loss: -1.23\n",
            "Iter-25000; ELBO: -0.598; T_loss: -1.361\n",
            "Iter-26000; ELBO: -0.8399; T_loss: -1.181\n",
            "Iter-27000; ELBO: 0.7628; T_loss: -2.487\n",
            "Iter-28000; ELBO: -0.3873; T_loss: -1.327\n",
            "Iter-29000; ELBO: -0.06292; T_loss: -1.604\n",
            "Iter-30000; ELBO: -0.4102; T_loss: -1.786\n",
            "Iter-31000; ELBO: -0.602; T_loss: -1.31\n",
            "Iter-32000; ELBO: -0.2576; T_loss: -1.332\n",
            "Iter-33000; ELBO: 0.04366; T_loss: -1.436\n",
            "Iter-34000; ELBO: -0.2436; T_loss: -1.346\n",
            "Iter-35000; ELBO: -0.7202; T_loss: -1.592\n",
            "Iter-36000; ELBO: -0.7416; T_loss: -0.8587\n",
            "Iter-37000; ELBO: -0.979; T_loss: -1.114\n",
            "Iter-38000; ELBO: -0.1846; T_loss: -1.434\n",
            "Iter-39000; ELBO: -0.1123; T_loss: -1.288\n",
            "Iter-40000; ELBO: -0.2668; T_loss: -1.439\n",
            "Iter-41000; ELBO: -0.4852; T_loss: -1.407\n",
            "Iter-42000; ELBO: -0.06006; T_loss: -1.483\n",
            "Iter-43000; ELBO: -0.7921; T_loss: -1.123\n",
            "Iter-44000; ELBO: -0.1575; T_loss: -1.206\n",
            "Iter-45000; ELBO: -0.1019; T_loss: -1.36\n",
            "Iter-46000; ELBO: -0.5416; T_loss: -1.252\n",
            "Iter-47000; ELBO: -0.3348; T_loss: -1.285\n",
            "Iter-48000; ELBO: -0.3727; T_loss: -1.47\n",
            "Iter-49000; ELBO: -0.3107; T_loss: -1.25\n",
            "Iter-50000; ELBO: -0.496; T_loss: -1.191\n",
            "Iter-51000; ELBO: 0.3575; T_loss: -2.833\n",
            "Iter-52000; ELBO: -1.19; T_loss: -1.089\n",
            "Iter-53000; ELBO: 0.06481; T_loss: -1.435\n",
            "Iter-54000; ELBO: 0.087; T_loss: -1.419\n",
            "Iter-55000; ELBO: -0.7735; T_loss: -1.118\n",
            "Iter-56000; ELBO: -0.03962; T_loss: -1.492\n",
            "Iter-57000; ELBO: -0.3669; T_loss: -1.243\n",
            "Iter-58000; ELBO: -0.1062; T_loss: -1.482\n",
            "Iter-59000; ELBO: -0.5028; T_loss: -1.343\n",
            "Iter-60000; ELBO: -0.359; T_loss: -1.156\n",
            "Iter-61000; ELBO: -0.2372; T_loss: -1.306\n",
            "Iter-62000; ELBO: -0.136; T_loss: -1.249\n",
            "Iter-63000; ELBO: -0.3144; T_loss: -1.332\n",
            "Iter-64000; ELBO: -0.1653; T_loss: -1.427\n",
            "Iter-65000; ELBO: -0.08446; T_loss: -1.506\n",
            "Iter-66000; ELBO: -0.1846; T_loss: -1.413\n",
            "Iter-67000; ELBO: -0.0296; T_loss: -1.394\n",
            "Iter-68000; ELBO: 0.1523; T_loss: -2.084\n",
            "Iter-69000; ELBO: -0.07854; T_loss: -1.262\n",
            "Iter-70000; ELBO: -0.1044; T_loss: -1.358\n",
            "Iter-71000; ELBO: -0.2903; T_loss: -1.196\n",
            "Iter-72000; ELBO: -0.3618; T_loss: -1.103\n",
            "Iter-73000; ELBO: -0.5606; T_loss: -1.085\n",
            "Iter-74000; ELBO: -0.1652; T_loss: -1.289\n",
            "Iter-75000; ELBO: -0.3097; T_loss: -1.285\n",
            "Iter-76000; ELBO: -0.2185; T_loss: -1.334\n",
            "Iter-77000; ELBO: -0.3542; T_loss: -1.226\n",
            "Iter-78000; ELBO: -0.2731; T_loss: -1.384\n",
            "Iter-79000; ELBO: 0.2236; T_loss: -1.626\n",
            "Iter-80000; ELBO: -0.276; T_loss: -1.339\n",
            "Iter-81000; ELBO: -0.1397; T_loss: -1.319\n",
            "Iter-82000; ELBO: -0.1132; T_loss: -1.356\n",
            "Iter-83000; ELBO: -0.3236; T_loss: -1.126\n",
            "Iter-84000; ELBO: -0.06112; T_loss: -1.377\n",
            "Iter-85000; ELBO: 0.0006293; T_loss: -1.464\n",
            "Iter-86000; ELBO: 0.203; T_loss: -1.66\n",
            "Iter-87000; ELBO: -0.4944; T_loss: -1.045\n",
            "Iter-88000; ELBO: -0.2251; T_loss: -1.392\n",
            "Iter-89000; ELBO: -0.00333; T_loss: -1.387\n",
            "Iter-90000; ELBO: 0.01666; T_loss: -1.604\n",
            "Iter-91000; ELBO: -0.2216; T_loss: -1.408\n",
            "Iter-92000; ELBO: -0.3209; T_loss: -1.337\n",
            "Iter-93000; ELBO: -0.08208; T_loss: -1.721\n",
            "Iter-94000; ELBO: -0.1935; T_loss: -1.367\n",
            "Iter-95000; ELBO: -0.3528; T_loss: -1.18\n",
            "Iter-96000; ELBO: -0.5898; T_loss: -1.175\n",
            "Iter-97000; ELBO: -0.298; T_loss: -1.309\n",
            "Iter-98000; ELBO: -0.2471; T_loss: -1.229\n",
            "Iter-99000; ELBO: -0.2686; T_loss: -1.287\n"
          ]
        }
      ],
      "source": [
        "import torch\n",
        "import torch.nn as nn\n",
        "import torch.optim as optim\n",
        "import numpy as np\n",
        "import matplotlib.pyplot as plt\n",
        "import matplotlib.gridspec as gridspec\n",
        "import os\n",
        "from torch.autograd import Variable\n",
        "from torchvision.datasets import MNIST\n",
        "from torchvision import transforms\n",
        "\n",
        "# Define data transforms\n",
        "transform = transforms.Compose([\n",
        "    transforms.ToTensor(),\n",
        "    transforms.Normalize((0.5,), (0.5,))\n",
        "])\n",
        "\n",
        "# Load MNIST dataset\n",
        "mnist = MNIST(root='./data', train=True, transform=transform, download=True)\n",
        "\n",
        "# Normalize the data to [0, 1] range\n",
        "mnist.data = mnist.data.float() / 255.0\n",
        "\n",
        "# Parameters\n",
        "mb_size = 32\n",
        "z_dim = 5\n",
        "X_dim = mnist.data.size(1) * mnist.data.size(2)  # Flattened image dimensions\n",
        "h_dim = 128\n",
        "lr = 1e-3\n",
        "\n",
        "# Create noise dimension\n",
        "eps_dim = 10  # Dimension of the noise vector\n",
        "\n",
        "# Encoder: q(z|x,eps)\n",
        "Q = torch.nn.Sequential(\n",
        "    torch.nn.Linear(X_dim + eps_dim, h_dim),\n",
        "    torch.nn.ReLU(),\n",
        "    torch.nn.Linear(h_dim, z_dim)\n",
        ")\n",
        "\n",
        "# Decoder: p(x|z)\n",
        "P = torch.nn.Sequential(\n",
        "    torch.nn.Linear(z_dim, h_dim),\n",
        "    torch.nn.ReLU(),\n",
        "    torch.nn.Linear(h_dim, X_dim),\n",
        "    torch.nn.Sigmoid()\n",
        ")\n",
        "\n",
        "# Discriminator: T(X, z)\n",
        "T = torch.nn.Sequential(\n",
        "    torch.nn.Linear(X_dim + z_dim, h_dim),\n",
        "    torch.nn.ReLU(),\n",
        "    torch.nn.Linear(h_dim, 1)\n",
        ")\n",
        "\n",
        "def reset_grad():\n",
        "    Q.zero_grad()\n",
        "    P.zero_grad()\n",
        "    T.zero_grad()\n",
        "\n",
        "\n",
        "def sample_X(size):\n",
        "    indices = np.random.randint(0, len(mnist), size)\n",
        "    X = mnist.data[indices].view(size, -1).float()\n",
        "    return Variable(X)\n",
        "\n",
        "\n",
        "# Optimizers\n",
        "Q_solver = optim.Adam(Q.parameters(), lr=lr)\n",
        "P_solver = optim.Adam(P.parameters(), lr=lr)\n",
        "T_solver = optim.Adam(T.parameters(), lr=lr)\n",
        "\n",
        "# Initialize counter\n",
        "cnt = 0\n",
        "\"\"\"1000000\"\"\"\n",
        "\n",
        "# Your training loop goes here\n",
        "for it in range(100000):\n",
        "    X = sample_X(mb_size)\n",
        "    eps = Variable(torch.randn(mb_size, eps_dim))\n",
        "    z = Variable(torch.randn(mb_size, z_dim))\n",
        "\n",
        "    # Optimize VAE\n",
        "    z_sample = Q(torch.cat([X, eps], 1))\n",
        "    X_sample = P(z_sample)\n",
        "    T_sample = T(torch.cat([X, z_sample], 1))\n",
        "\n",
        "    disc = torch.mean(-T_sample)\n",
        "    loglike = -nn.MSELoss()(X_sample, X) # Use MSELoss for binary cross-entropy\n",
        "\n",
        "    elbo = -(disc + loglike)\n",
        "\n",
        "    elbo.backward()\n",
        "    Q_solver.step()\n",
        "    P_solver.step()\n",
        "    reset_grad()\n",
        "\n",
        "    # Discriminator T(X, z)\n",
        "    z_sample = Q(torch.cat([X, eps], 1))\n",
        "    T_q = nn.Sigmoid()(T(torch.cat([X, z_sample], 1)))\n",
        "    T_prior = nn.Sigmoid()(T(torch.cat([X, z], 1)))\n",
        "\n",
        "    T_loss = -torch.mean(torch.log(T_q) + torch.log(1. - T_prior))\n",
        "\n",
        "    T_loss.backward()\n",
        "    T_solver.step()\n",
        "    reset_grad()\n",
        "\n",
        "    # Print and plot every now and then\n",
        "    if it % 1000 == 0:\n",
        "        print('Iter-{}; ELBO: {:.4}; T_loss: {:.4}'\n",
        "              .format(it, -elbo.item(), -T_loss.item()))\n",
        "\n",
        "        samples = P(z).data.numpy()[:16]\n",
        "\n",
        "        fig = plt.figure(figsize=(4, 4))\n",
        "        gs = gridspec.GridSpec(4, 4)\n",
        "        gs.update(wspace=0.05, hspace=0.05)\n",
        "\n",
        "        for i, sample in enumerate(samples):\n",
        "            ax = plt.subplot(gs[i])\n",
        "            plt.axis('off')\n",
        "            ax.set_xticklabels([])\n",
        "            ax.set_yticklabels([])\n",
        "            ax.set_aspect('equal')\n",
        "            plt.imshow(sample.reshape(28, 28), cmap='Greys_r')\n",
        "\n",
        "        if not os.path.exists('out/'):\n",
        "            os.makedirs('out/')\n",
        "\n",
        "        plt.savefig('out/{}.png'\n",
        "                    .format(str(cnt).zfill(3)), bbox_inches='tight')\n",
        "        cnt += 1\n",
        "        plt.close(fig)"
      ]
    }
  ]
}